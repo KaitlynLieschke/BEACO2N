{
 "cells": [
  {
   "cell_type": "code",
   "execution_count": 1,
   "metadata": {
    "collapsed": true
   },
   "outputs": [],
   "source": [
    "import pandas as pd\n",
    "import numpy as np\n",
    "import csv\n",
    "#import glob as glob\n",
    "import os\n",
    "from datetime import datetime, timedelta\n",
    "from dateutil.parser import parse"
   ]
  },
  {
   "cell_type": "code",
   "execution_count": 2,
   "metadata": {
    "collapsed": true
   },
   "outputs": [],
   "source": [
    "import sys\n",
    "import os\n",
    "import re\n",
    "import fnmatch\n",
    "try:\n",
    "    _unicode = unicode\n",
    "except NameError:\n",
    "    # If Python is built without Unicode support, the unicode type\n",
    "    # will not exist. Fake one.\n",
    "    class _unicode(object):\n",
    "        pass\n",
    "__all__ = [\"glob\", \"iglob\"]\n",
    "def glob(pathname):\n",
    "    \"\"\"Return a list of paths matching a pathname pattern.\n",
    "\n",
    "    The pattern may contain simple shell-style wildcards a la\n",
    "    fnmatch. However, unlike fnmatch, filenames starting with a\n",
    "    dot are special cases that are not matched by '*' and '?'\n",
    "    patterns.\n",
    "\n",
    "    \"\"\"\n",
    "    return list(iglob(pathname))\n",
    "def iglob(pathname):\n",
    "    \"\"\"Return an iterator which yields the paths matching a pathname pattern.\n",
    "\n",
    "    The pattern may contain simple shell-style wildcards a la\n",
    "    fnmatch. However, unlike fnmatch, filenames starting with a\n",
    "    dot are special cases that are not matched by '*' and '?'\n",
    "    patterns.\n",
    "\n",
    "    \"\"\"\n",
    "    dirname, basename = os.path.split(pathname)\n",
    "    if not has_magic(pathname):\n",
    "        if basename:\n",
    "            if os.path.lexists(pathname):\n",
    "                yield pathname\n",
    "        else:\n",
    "            # Patterns ending with a slash should match only directories\n",
    "            if os.path.isdir(dirname):\n",
    "                yield pathname\n",
    "        return\n",
    "    if not dirname:\n",
    "        for name in glob1(os.curdir, basename):\n",
    "            yield name\n",
    "        return\n",
    "    # `os.path.split()` returns the argument itself as a dirname if it is a\n",
    "    # drive or UNC path.  Prevent an infinite recursion if a drive or UNC path\n",
    "    # contains magic characters (i.e. r'\\\\?\\C:').\n",
    "    if dirname != pathname and has_magic(dirname):\n",
    "        dirs = iglob(dirname)\n",
    "    else:\n",
    "        dirs = [dirname]\n",
    "    if has_magic(basename):\n",
    "        glob_in_dir = glob1\n",
    "    else:\n",
    "        glob_in_dir = glob0\n",
    "    for dirname in dirs:\n",
    "        for name in glob_in_dir(dirname, basename):\n",
    "            yield os.path.join(dirname, name)\n",
    "\n",
    "# These 2 helper functions non-recursively glob inside a literal directory.\n",
    "# They return a list of basenames. `glob1` accepts a pattern while `glob0`\n",
    "# takes a literal basename (so it only has to check for its existence).\n",
    "\n",
    "def glob1(dirname, pattern):\n",
    "    if not dirname:\n",
    "        dirname = os.curdir\n",
    "    if isinstance(pattern, _unicode) and not isinstance(dirname, unicode):\n",
    "        dirname = unicode(dirname, sys.getfilesystemencoding() or\n",
    "                                   sys.getdefaultencoding())\n",
    "    try:\n",
    "        names = os.listdir(dirname)\n",
    "    except os.error:\n",
    "        return []\n",
    "    if pattern[0] != '.':\n",
    "        names = filter(lambda x: x[0] != '.', names)\n",
    "    return fnmatch.filter(names, pattern)\n",
    "\n",
    "def glob0(dirname, basename):\n",
    "    if basename == '':\n",
    "        # `os.path.split()` returns an empty basename for paths ending with a\n",
    "        # directory separator.  'q*x/' should match only directories.\n",
    "        if os.path.isdir(dirname):\n",
    "            return [basename]\n",
    "    else:\n",
    "        if os.path.lexists(os.path.join(dirname, basename)):\n",
    "            return [basename]\n",
    "    return []\n",
    "\n",
    "\n",
    "magic_check = re.compile('[*?[]')\n",
    "\n",
    "def has_magic(s):\n",
    "    return magic_check.search(s) is not None"
   ]
  },
  {
   "cell_type": "code",
   "execution_count": 3,
   "metadata": {
    "collapsed": false
   },
   "outputs": [],
   "source": [
    "directory='/Users/kaitlynlieschke/Documents/odowd/data/*'\n",
    "folders=glob(directory)"
   ]
  },
  {
   "cell_type": "code",
   "execution_count": 4,
   "metadata": {
    "collapsed": false
   },
   "outputs": [],
   "source": [
    "allfiles=list()\n",
    "for folder in folders:\n",
    "    files=glob(os.path.join(folder,\"*.csv\"))\n",
    "    allfiles=allfiles+files"
   ]
  },
  {
   "cell_type": "code",
   "execution_count": 5,
   "metadata": {
    "collapsed": false
   },
   "outputs": [],
   "source": [
    "#Create headernames for all columns in file\n",
    "headernames=[\"BMP temperature\",\"pressure\",\"SHT temperature\",\"RH\",\"dew point temp\",\"MiCS O3\",\"MiCS CO\",\"MiCS NO2\",\n",
    "             \"Alpha O3\",\"Alpha O3\",\"Alpha CO\",\"Alpha CO\",\"Alpha NO\",\"Alpha NO\",\"Alpha NO2\",\"Alpha NO2\",\"high PM\",\n",
    "             \"lowPM\",\"%FS PM\",\"CO2\",\"GMP temperature\",\"UTC time\"]"
   ]
  },
  {
   "cell_type": "code",
   "execution_count": 6,
   "metadata": {
    "collapsed": false
   },
   "outputs": [],
   "source": [
    "df=pd.concat((pd.read_csv(file,names=headernames,na_values='-999') for file in allfiles), ignore_index=True)\n",
    "#,converters={'UTC time': lambda x: str(x)} <-- in pd.read_csv??"
   ]
  },
  {
   "cell_type": "code",
   "execution_count": 7,
   "metadata": {
    "collapsed": false
   },
   "outputs": [
    {
     "data": {
      "text/html": [
       "<div>\n",
       "<table border=\"1\" class=\"dataframe\">\n",
       "  <thead>\n",
       "    <tr style=\"text-align: right;\">\n",
       "      <th></th>\n",
       "      <th>BMP temperature</th>\n",
       "      <th>pressure</th>\n",
       "      <th>SHT temperature</th>\n",
       "      <th>RH</th>\n",
       "      <th>dew point temp</th>\n",
       "      <th>MiCS O3</th>\n",
       "      <th>MiCS CO</th>\n",
       "      <th>MiCS NO2</th>\n",
       "      <th>Alpha O3</th>\n",
       "      <th>Alpha O3.1</th>\n",
       "      <th>...</th>\n",
       "      <th>Alpha NO</th>\n",
       "      <th>Alpha NO.1</th>\n",
       "      <th>Alpha NO2</th>\n",
       "      <th>Alpha NO2.1</th>\n",
       "      <th>high PM</th>\n",
       "      <th>lowPM</th>\n",
       "      <th>%FS PM</th>\n",
       "      <th>CO2</th>\n",
       "      <th>GMP temperature</th>\n",
       "      <th>UTC time</th>\n",
       "    </tr>\n",
       "  </thead>\n",
       "  <tbody>\n",
       "    <tr>\n",
       "      <th>4958808</th>\n",
       "      <td>30.66</td>\n",
       "      <td>1003.95</td>\n",
       "      <td>30.44</td>\n",
       "      <td>29.18</td>\n",
       "      <td>10.49</td>\n",
       "      <td>0.44</td>\n",
       "      <td>1.51</td>\n",
       "      <td>3.12</td>\n",
       "      <td>3.60</td>\n",
       "      <td>2.99</td>\n",
       "      <td>...</td>\n",
       "      <td>1.88</td>\n",
       "      <td>0.0</td>\n",
       "      <td>2.82</td>\n",
       "      <td>2.16</td>\n",
       "      <td>364432.0</td>\n",
       "      <td>364432.0</td>\n",
       "      <td>0.00</td>\n",
       "      <td>392.6</td>\n",
       "      <td>34.8</td>\n",
       "      <td>2015-06-04 21:45:36</td>\n",
       "    </tr>\n",
       "    <tr>\n",
       "      <th>4958809</th>\n",
       "      <td>30.64</td>\n",
       "      <td>1003.85</td>\n",
       "      <td>30.45</td>\n",
       "      <td>29.14</td>\n",
       "      <td>10.48</td>\n",
       "      <td>0.45</td>\n",
       "      <td>1.53</td>\n",
       "      <td>3.12</td>\n",
       "      <td>3.58</td>\n",
       "      <td>2.98</td>\n",
       "      <td>...</td>\n",
       "      <td>1.88</td>\n",
       "      <td>0.0</td>\n",
       "      <td>2.81</td>\n",
       "      <td>2.16</td>\n",
       "      <td>364541.0</td>\n",
       "      <td>364541.0</td>\n",
       "      <td>0.00</td>\n",
       "      <td>387.4</td>\n",
       "      <td>34.9</td>\n",
       "      <td>2015-06-04 21:45:41</td>\n",
       "    </tr>\n",
       "    <tr>\n",
       "      <th>4958810</th>\n",
       "      <td>30.62</td>\n",
       "      <td>1003.87</td>\n",
       "      <td>30.43</td>\n",
       "      <td>29.14</td>\n",
       "      <td>10.46</td>\n",
       "      <td>0.45</td>\n",
       "      <td>1.56</td>\n",
       "      <td>3.08</td>\n",
       "      <td>3.57</td>\n",
       "      <td>2.97</td>\n",
       "      <td>...</td>\n",
       "      <td>1.88</td>\n",
       "      <td>0.0</td>\n",
       "      <td>2.81</td>\n",
       "      <td>2.16</td>\n",
       "      <td>346964.0</td>\n",
       "      <td>364654.0</td>\n",
       "      <td>4.85</td>\n",
       "      <td>393.4</td>\n",
       "      <td>34.9</td>\n",
       "      <td>2015-06-04 21:45:46</td>\n",
       "    </tr>\n",
       "    <tr>\n",
       "      <th>4958811</th>\n",
       "      <td>30.62</td>\n",
       "      <td>1003.87</td>\n",
       "      <td>30.43</td>\n",
       "      <td>29.11</td>\n",
       "      <td>10.45</td>\n",
       "      <td>0.45</td>\n",
       "      <td>1.52</td>\n",
       "      <td>3.11</td>\n",
       "      <td>3.57</td>\n",
       "      <td>2.97</td>\n",
       "      <td>...</td>\n",
       "      <td>1.67</td>\n",
       "      <td>0.0</td>\n",
       "      <td>2.81</td>\n",
       "      <td>2.14</td>\n",
       "      <td>350834.0</td>\n",
       "      <td>365780.0</td>\n",
       "      <td>4.09</td>\n",
       "      <td>390.6</td>\n",
       "      <td>34.8</td>\n",
       "      <td>2015-06-04 21:45:51</td>\n",
       "    </tr>\n",
       "    <tr>\n",
       "      <th>4958812</th>\n",
       "      <td>30.59</td>\n",
       "      <td>1003.84</td>\n",
       "      <td>30.41</td>\n",
       "      <td>29.11</td>\n",
       "      <td>10.43</td>\n",
       "      <td>0.44</td>\n",
       "      <td>1.52</td>\n",
       "      <td>3.08</td>\n",
       "      <td>3.56</td>\n",
       "      <td>2.96</td>\n",
       "      <td>...</td>\n",
       "      <td>1.95</td>\n",
       "      <td>0.0</td>\n",
       "      <td>2.81</td>\n",
       "      <td>2.12</td>\n",
       "      <td>364423.0</td>\n",
       "      <td>364423.0</td>\n",
       "      <td>0.00</td>\n",
       "      <td>386.0</td>\n",
       "      <td>34.9</td>\n",
       "      <td>2015-06-04 21:45:56</td>\n",
       "    </tr>\n",
       "  </tbody>\n",
       "</table>\n",
       "<p>5 rows × 22 columns</p>\n",
       "</div>"
      ],
      "text/plain": [
       "         BMP temperature  pressure  SHT temperature     RH  dew point temp  \\\n",
       "4958808            30.66   1003.95            30.44  29.18           10.49   \n",
       "4958809            30.64   1003.85            30.45  29.14           10.48   \n",
       "4958810            30.62   1003.87            30.43  29.14           10.46   \n",
       "4958811            30.62   1003.87            30.43  29.11           10.45   \n",
       "4958812            30.59   1003.84            30.41  29.11           10.43   \n",
       "\n",
       "         MiCS O3  MiCS CO  MiCS NO2  Alpha O3  Alpha O3.1  \\\n",
       "4958808     0.44     1.51      3.12      3.60        2.99   \n",
       "4958809     0.45     1.53      3.12      3.58        2.98   \n",
       "4958810     0.45     1.56      3.08      3.57        2.97   \n",
       "4958811     0.45     1.52      3.11      3.57        2.97   \n",
       "4958812     0.44     1.52      3.08      3.56        2.96   \n",
       "\n",
       "                ...           Alpha NO  Alpha NO.1  Alpha NO2  Alpha NO2.1  \\\n",
       "4958808         ...               1.88         0.0       2.82         2.16   \n",
       "4958809         ...               1.88         0.0       2.81         2.16   \n",
       "4958810         ...               1.88         0.0       2.81         2.16   \n",
       "4958811         ...               1.67         0.0       2.81         2.14   \n",
       "4958812         ...               1.95         0.0       2.81         2.12   \n",
       "\n",
       "          high PM     lowPM  %FS PM    CO2  GMP temperature  \\\n",
       "4958808  364432.0  364432.0    0.00  392.6             34.8   \n",
       "4958809  364541.0  364541.0    0.00  387.4             34.9   \n",
       "4958810  346964.0  364654.0    4.85  393.4             34.9   \n",
       "4958811  350834.0  365780.0    4.09  390.6             34.8   \n",
       "4958812  364423.0  364423.0    0.00  386.0             34.9   \n",
       "\n",
       "                    UTC time  \n",
       "4958808  2015-06-04 21:45:36  \n",
       "4958809  2015-06-04 21:45:41  \n",
       "4958810  2015-06-04 21:45:46  \n",
       "4958811  2015-06-04 21:45:51  \n",
       "4958812  2015-06-04 21:45:56  \n",
       "\n",
       "[5 rows x 22 columns]"
      ]
     },
     "execution_count": 7,
     "metadata": {},
     "output_type": "execute_result"
    }
   ],
   "source": [
    "df.tail()"
   ]
  },
  {
   "cell_type": "markdown",
   "metadata": {},
   "source": [
    "Save df as only the two columns I'm interested in"
   ]
  },
  {
   "cell_type": "code",
   "execution_count": 8,
   "metadata": {
    "collapsed": false
   },
   "outputs": [],
   "source": [
    "df=df[['%FS PM','UTC time']] "
   ]
  },
  {
   "cell_type": "markdown",
   "metadata": {},
   "source": [
    "Remove all rows containing NaN (limit to two columns first so only rows with NaN in those columns are removed)"
   ]
  },
  {
   "cell_type": "code",
   "execution_count": 9,
   "metadata": {
    "collapsed": false
   },
   "outputs": [],
   "source": [
    "df=df.dropna()"
   ]
  },
  {
   "cell_type": "markdown",
   "metadata": {},
   "source": [
    "Select date range"
   ]
  },
  {
   "cell_type": "code",
   "execution_count": 10,
   "metadata": {
    "collapsed": false
   },
   "outputs": [],
   "source": [
    "df=df[(df['UTC time'] >= '2014-08-23') & (df['UTC time'] <= '2015-05-31')]"
   ]
  },
  {
   "cell_type": "markdown",
   "metadata": {},
   "source": [
    "Reset index for cut dataframe"
   ]
  },
  {
   "cell_type": "code",
   "execution_count": 11,
   "metadata": {
    "collapsed": false
   },
   "outputs": [],
   "source": [
    "df=df.reset_index()\n",
    "df=df[['%FS PM','UTC time']] "
   ]
  },
  {
   "cell_type": "code",
   "execution_count": 12,
   "metadata": {
    "collapsed": false
   },
   "outputs": [
    {
     "data": {
      "text/html": [
       "<div>\n",
       "<table border=\"1\" class=\"dataframe\">\n",
       "  <thead>\n",
       "    <tr style=\"text-align: right;\">\n",
       "      <th></th>\n",
       "      <th>%FS PM</th>\n",
       "      <th>UTC time</th>\n",
       "    </tr>\n",
       "  </thead>\n",
       "  <tbody>\n",
       "    <tr>\n",
       "      <th>0</th>\n",
       "      <td>3.99</td>\n",
       "      <td>2014-08-23 00:00:03</td>\n",
       "    </tr>\n",
       "    <tr>\n",
       "      <th>1</th>\n",
       "      <td>4.38</td>\n",
       "      <td>2014-08-23 00:00:08</td>\n",
       "    </tr>\n",
       "    <tr>\n",
       "      <th>2</th>\n",
       "      <td>0.00</td>\n",
       "      <td>2014-08-23 00:00:13</td>\n",
       "    </tr>\n",
       "    <tr>\n",
       "      <th>3</th>\n",
       "      <td>0.00</td>\n",
       "      <td>2014-08-23 00:00:18</td>\n",
       "    </tr>\n",
       "    <tr>\n",
       "      <th>4</th>\n",
       "      <td>0.00</td>\n",
       "      <td>2014-08-23 00:00:23</td>\n",
       "    </tr>\n",
       "  </tbody>\n",
       "</table>\n",
       "</div>"
      ],
      "text/plain": [
       "   %FS PM             UTC time\n",
       "0    3.99  2014-08-23 00:00:03\n",
       "1    4.38  2014-08-23 00:00:08\n",
       "2    0.00  2014-08-23 00:00:13\n",
       "3    0.00  2014-08-23 00:00:18\n",
       "4    0.00  2014-08-23 00:00:23"
      ]
     },
     "execution_count": 12,
     "metadata": {},
     "output_type": "execute_result"
    }
   ],
   "source": [
    "df.head()"
   ]
  },
  {
   "cell_type": "markdown",
   "metadata": {},
   "source": [
    "Identify any problem rows in parse()"
   ]
  },
  {
   "cell_type": "markdown",
   "metadata": {
    "collapsed": false
   },
   "source": [
    "l=0\n",
    "for x in df['UTC time']:\n",
    "    parse(x)\n",
    "    l=l+1\n",
    "print(l)\n",
    "    "
   ]
  },
  {
   "cell_type": "markdown",
   "metadata": {
    "collapsed": false
   },
   "source": [
    "print(l)"
   ]
  },
  {
   "cell_type": "markdown",
   "metadata": {},
   "source": [
    "Save identified problem row and attempt to parse it"
   ]
  },
  {
   "cell_type": "markdown",
   "metadata": {
    "collapsed": false
   },
   "source": [
    "c=df.loc[2373188]['UTC time']"
   ]
  },
  {
   "cell_type": "markdown",
   "metadata": {},
   "source": [
    "Check another random input to parse()\n",
    "c=df.loc[273188]['UTC time']"
   ]
  },
  {
   "cell_type": "markdown",
   "metadata": {
    "collapsed": false
   },
   "source": [
    "parse(c)"
   ]
  },
  {
   "cell_type": "markdown",
   "metadata": {
    "collapsed": false
   },
   "source": [
    "df=df.drop(df.index[2373188])"
   ]
  },
  {
   "cell_type": "markdown",
   "metadata": {},
   "source": [
    "Create datetime column in df from the 'UTC time' strings for each row"
   ]
  },
  {
   "cell_type": "code",
   "execution_count": 13,
   "metadata": {
    "collapsed": true
   },
   "outputs": [],
   "source": [
    "df['UTC datetime']=df['UTC time'].apply(lambda row: parse(row)) "
   ]
  },
  {
   "cell_type": "markdown",
   "metadata": {
    "collapsed": false
   },
   "source": [
    "Another check for datetime issues:\n",
    "random= pd.to_datetime(df['UTC time'], dayfirst=False, errors='coerce')\n",
    "print(random)\n",
    "\n",
    "idx = random[random.isnull()].index\n",
    "print(idx)\n",
    "df.loc[4044928]"
   ]
  },
  {
   "cell_type": "markdown",
   "metadata": {},
   "source": [
    "Convert UTC time to local time"
   ]
  },
  {
   "cell_type": "code",
   "execution_count": null,
   "metadata": {
    "collapsed": true
   },
   "outputs": [],
   "source": [
    "# from datetime import *\n",
    "# from dateutil.tz import *\n",
    "# for xx in df['UTC datetime']:\n",
    "#     from_zone = tz.gettz(df['UTC datetime'][:xx])\n",
    "#     to_zone = tz.tzlocal()\n",
    "#     utc = datetime.strptime(df['UTC datetime'][:xx], '%Y-%m-%d %H:%M:%S')  # <====== STRING\n",
    "#     utc = utc.replace(tzinfo = from_zone)\n",
    "#     central = utc.astimezone(to_zone)\n",
    "# # # 'central' prints utc time plus offset, not local time. How do I change that?"
   ]
  },
  {
   "cell_type": "markdown",
   "metadata": {},
   "source": [
    "Create hourly average of measurements and recreate datetime column"
   ]
  },
  {
   "cell_type": "code",
   "execution_count": 14,
   "metadata": {
    "collapsed": true
   },
   "outputs": [],
   "source": [
    "df['day'] = df['datetime'].apply(lambda x: x.day)\n",
    "df['month'] = df['datetime'].apply(lambda x: x.month)\n",
    "df['hour']=df['datetime'].apply(lambda x: x.hour)\n",
    "df['year']=df['datetime'].apply(lambda x: x.year)\n",
    "df = df.drop('datetime', axis=1)\n",
    "df=df.apply(lambda x: pd.to_numeric(x, errors='coerce'))\n",
    "df_t = df.groupby(['day','month','hour','year'], as_index=False,sort=False)\n",
    "aggregation = {'%FS PM':'mean'\n",
    "                 }\n",
    "df_t = df_t.agg(aggregation)\n",
    "df_t['datetime'] = df_t[['year', 'month', 'day', 'hour']].apply(lambda s : datetime(*s),axis = 1)"
   ]
  },
  {
   "cell_type": "markdown",
   "metadata": {},
   "source": [
    "# Plotting"
   ]
  },
  {
   "cell_type": "code",
   "execution_count": 15,
   "metadata": {
    "collapsed": false
   },
   "outputs": [
    {
     "data": {
      "text/html": [
       "<iframe id=\"igraph\" scrolling=\"no\" style=\"border:none;\" seamless=\"seamless\" src=\"https://plot.ly/~kaitlynlieschke/14.embed\" height=\"525px\" width=\"100%\"></iframe>"
      ],
      "text/plain": [
       "<plotly.tools.PlotlyDisplay object>"
      ]
     },
     "execution_count": 15,
     "metadata": {},
     "output_type": "execute_result"
    }
   ],
   "source": [
    "import plotly.plotly as py\n",
    "py.sign_in('kaitlynlieschke', '4gs9IuDiESfdk5Cj9POi')\n",
    "import plotly.graph_objs as go\n",
    "\n",
    "x=df_t['datetime']\n",
    "y=df_t['%FS PM']\n",
    "\n",
    "# Create trace\n",
    "trace = go.Scatter(\n",
    "   x = x,\n",
    "   y = y,\n",
    "   name = 'ODOWD'\n",
    ")\n",
    "\n",
    "data = [trace]\n",
    "\n",
    "layout = go.Layout(\n",
    "   title='% Full Scale PM',\n",
    "   yaxis=dict(\n",
    "       title='% FS',\n",
    "       titlefont=dict(\n",
    "           family='Courier New, monospace',\n",
    "           size=18,\n",
    "           color='#7f7f7f'\n",
    "       )\n",
    "   )\n",
    ")\n",
    "\n",
    "\n",
    "fig = go.Figure(data=data, layout=layout)\n",
    "\n",
    "py.iplot(fig, filename='odowd %FSPM')"
   ]
  },
  {
   "cell_type": "code",
   "execution_count": null,
   "metadata": {
    "collapsed": true
   },
   "outputs": [],
   "source": []
  }
 ],
 "metadata": {
  "kernelspec": {
   "display_name": "Python 3",
   "language": "python",
   "name": "python3"
  },
  "language_info": {
   "codemirror_mode": {
    "name": "ipython",
    "version": 3
   },
   "file_extension": ".py",
   "mimetype": "text/x-python",
   "name": "python",
   "nbconvert_exporter": "python",
   "pygments_lexer": "ipython3",
   "version": "3.6.0"
  }
 },
 "nbformat": 4,
 "nbformat_minor": 0
}
